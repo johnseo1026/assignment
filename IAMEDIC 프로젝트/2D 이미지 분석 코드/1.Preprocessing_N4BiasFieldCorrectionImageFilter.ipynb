{
 "cells": [
  {
   "cell_type": "code",
   "execution_count": 1,
   "metadata": {},
   "outputs": [],
   "source": [
    "DATA= 'dicom/MICCAI_BraTS_2019_Data_Training'\n",
    "DATA_HGG = DATA +'/HGG/'\n",
    "DATA_LGG = DATA +'/LGG/'\n",
    "\n",
    "FLAIR = 'flair'\n",
    "T1 = 't1'\n",
    "T2 = 't2'\n",
    "T1CE = 't1ce'"
   ]
  },
  {
   "cell_type": "code",
   "execution_count": 2,
   "metadata": {},
   "outputs": [],
   "source": [
    "import os, sys, glob\n",
    "import numpy as np\n",
    "import SimpleITK as sitk\n",
    "import sys\n",
    "import os\n",
    "import pandas as pd\n",
    "import re"
   ]
  },
  {
   "cell_type": "code",
   "execution_count": 3,
   "metadata": {},
   "outputs": [],
   "source": [
    "import pandas\n",
    "import numpy"
   ]
  },
  {
   "cell_type": "markdown",
   "metadata": {},
   "source": [
    "# Data Preprocessing"
   ]
  },
  {
   "cell_type": "markdown",
   "metadata": {},
   "source": [
    "## Run N4BiasFieldCorrectionImageFilter"
   ]
  },
  {
   "cell_type": "code",
   "execution_count": 4,
   "metadata": {},
   "outputs": [],
   "source": [
    "\n",
    "def n4cor(in_img, out_img):\n",
    "    inputImage = sitk.ReadImage(in_img )\n",
    "    maskImage = sitk.OtsuThreshold( inputImage, 0, 1, 200 )\n",
    "\n",
    "    inputImage = sitk.Cast( inputImage, sitk.sitkFloat32 )\n",
    "    corrector = sitk.N4BiasFieldCorrectionImageFilter();\n",
    "    numberFilltingLevels = 4\n",
    "\n",
    "    output = corrector.Execute( inputImage, maskImage ) \n",
    "    sitk.WriteImage( output, out_img )"
   ]
  },
  {
   "cell_type": "markdown",
   "metadata": {},
   "source": [
    "## find all relevant image directories"
   ]
  },
  {
   "cell_type": "code",
   "execution_count": 5,
   "metadata": {},
   "outputs": [],
   "source": [
    "input_path = DATA_HGG\n",
    "        \n",
    "hgg_paths = []\n",
    "for dirpath, dirnames, files in os.walk(input_path):\n",
    "    for dir in dirnames:\n",
    "        if ('BraTS19' in dir):\n",
    "            hgg_paths.append(dir)\n",
    "\n",
    "input_path = DATA_LGG\n",
    "        \n",
    "lgg_paths = []\n",
    "for dirpath, dirnames, files in os.walk(input_path):\n",
    "    for dir in dirnames:\n",
    "        if ('BraTS19' in dir):\n",
    "            lgg_paths.append(dir)"
   ]
  },
  {
   "cell_type": "code",
   "execution_count": 6,
   "metadata": {},
   "outputs": [
    {
     "data": {
      "text/plain": [
       "(76, 259)"
      ]
     },
     "execution_count": 6,
     "metadata": {},
     "output_type": "execute_result"
    }
   ],
   "source": [
    "len(lgg_paths),len(hgg_paths)"
   ]
  },
  {
   "cell_type": "markdown",
   "metadata": {},
   "source": [
    "## Run n4corr filter on T1 and T1CE images"
   ]
  },
  {
   "cell_type": "code",
   "execution_count": 7,
   "metadata": {
    "scrolled": false
   },
   "outputs": [],
   "source": [
    "%%time\n",
    "\n",
    "for dirpath, dirnames, files in os.walk(input_path):\n",
    "\n",
    "    for file in files:\n",
    "        if ('_t1.' in file):\n",
    "            in_img = os.path.join(dirpath, file)\n",
    "            out_img = os.path.join(dirpath, file[:-9]+ 't1_nb4.nii.gz')\n",
    "            print(in_img, out_img)\n",
    "            if (not os.path.isfile(out_img)):\n",
    "                n4cor(in_img, out_img)\n",
    "        \n",
    "        if (T1CE in file):\n",
    "            in_img = os.path.join(dirpath, file)\n",
    "            out_img = os.path.join(dirpath,file[:-11]+ 't1ce_nb4.nii.gz')\n",
    "            print(in_img, out_img)\n",
    "            if (not os.path.isfile(out_img)):\n",
    "                n4cor(in_img, out_img)"
   ]
  },
  {
   "cell_type": "code",
   "execution_count": 8,
   "metadata": {},
   "outputs": [],
   "source": [
    "VALIDATION_DATA = 'dicom/MICCAI_BraTS_2019_Data_Validation/'"
   ]
  },
  {
   "cell_type": "code",
   "execution_count": 9,
   "metadata": {},
   "outputs": [
    {
     "name": "stdout",
     "output_type": "stream",
     "text": [
      "dicom/MICCAI_BraTS_2019_Data_Validation/BraTS19_WashU_W047_1/BraTS19_WashU_W047_1_t1.nii.gz dicom/MICCAI_BraTS_2019_Data_Validation/BraTS19_WashU_W047_1/BraTS19_WashU_W047_1_t1_nb4.nii.gz\n",
      "dicom/MICCAI_BraTS_2019_Data_Validation/BraTS19_WashU_W047_1/BraTS19_WashU_W047_1_t1ce.nii.gz dicom/MICCAI_BraTS_2019_Data_Validation/BraTS19_WashU_W047_1/BraTS19_WashU_W047_1_t1ce_nb4.nii.gz\n",
      "dicom/MICCAI_BraTS_2019_Data_Validation/BraTS19_WashU_W033_1/BraTS19_WashU_W033_1_t1ce.nii.gz dicom/MICCAI_BraTS_2019_Data_Validation/BraTS19_WashU_W033_1/BraTS19_WashU_W033_1_t1ce_nb4.nii.gz\n",
      "dicom/MICCAI_BraTS_2019_Data_Validation/BraTS19_WashU_W033_1/BraTS19_WashU_W033_1_t1.nii.gz dicom/MICCAI_BraTS_2019_Data_Validation/BraTS19_WashU_W033_1/BraTS19_WashU_W033_1_t1_nb4.nii.gz\n",
      "CPU times: user 1h 11min 28s, sys: 42.5 s, total: 1h 12min 10s\n",
      "Wall time: 25min 19s\n"
     ]
    }
   ],
   "source": [
    "%%time\n",
    "\n",
    "for dirpath, dirnames, files in os.walk(VALIDATION_DATA):\n",
    "\n",
    "    for file in files:\n",
    "        if ('_t1.' in file):\n",
    "            in_img = os.path.join(dirpath, file)\n",
    "            out_img = os.path.join(dirpath, file[:-9]+ 't1_nb4.nii.gz')\n",
    "            if (not os.path.isfile(out_img)):\n",
    "                print(in_img, out_img)\n",
    "                n4cor(in_img, out_img)\n",
    "        \n",
    "        if (T1CE in file):\n",
    "            in_img = os.path.join(dirpath, file)\n",
    "            out_img = os.path.join(dirpath,file[:-11]+ 't1ce_nb4.nii.gz')\n",
    "            if (not os.path.isfile(out_img)):\n",
    "                print(in_img, out_img)\n",
    "                n4cor(in_img, out_img)"
   ]
  }
 ],
 "metadata": {
  "kernelspec": {
   "display_name": "Python 3",
   "language": "python",
   "name": "python3"
  },
  "language_info": {
   "codemirror_mode": {
    "name": "ipython",
    "version": 3
   },
   "file_extension": ".py",
   "mimetype": "text/x-python",
   "name": "python",
   "nbconvert_exporter": "python",
   "pygments_lexer": "ipython3",
   "version": "3.7.6"
  }
 },
 "nbformat": 4,
 "nbformat_minor": 2
}
