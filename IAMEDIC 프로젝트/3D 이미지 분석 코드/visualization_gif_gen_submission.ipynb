{
 "cells": [
  {
   "cell_type": "markdown",
   "metadata": {
    "ExecuteTime": {
     "end_time": "2020-06-17T19:31:41.727088Z",
     "start_time": "2020-06-17T19:31:41.710072Z"
    }
   },
   "source": [
    "###by J.Lee ###\n",
    "\n",
    "This is simple notebook file that creates animated brain image.\n",
    "\n",
    "'alpha_composit' method in pillow's Image class is used.\n",
    "\n",
    "Truth label and prediction label are superimposed on the mri image.\n",
    "\n",
    "'read_img_sitk()' funciton is derived from Naomi Fridman's repository.\n",
    "\n",
    "Flair and t1ce nii images are used to create baseimage."
   ]
  },
  {
   "cell_type": "code",
   "execution_count": 1,
   "metadata": {
    "ExecuteTime": {
     "end_time": "2020-06-17T18:22:53.072763Z",
     "start_time": "2020-06-17T18:22:52.793510Z"
    }
   },
   "outputs": [],
   "source": [
    "import SimpleITK as sitk\n",
    "import numpy as np\n",
    "\n",
    "def read_img_sitk(img):\n",
    "    '''\n",
    "    reads nii image and returns a numpy array.\n",
    "    '''\n",
    "    inputImage = sitk.ReadImage(img)\n",
    "    inputImage = sitk.Cast(inputImage, sitk.sitkFloat32 )\n",
    "    image = sitk.GetArrayFromImage(inputImage)\n",
    "    return image\n",
    "\n",
    "def nii_to_8bit_npy(img_dirs):\n",
    "    \"\"\"\n",
    "    recieves a list of image_diriectories e.g.[C:/ab/cd.nii, C:/ab/ce.nii, C:/de/fg.nii]\n",
    "    returns a merged 8bit-scale(i.e.0-255) ndarray.\n",
    "    \"\"\"\n",
    "    image = 0.\n",
    "    for i in img_dirs:\n",
    "        image += read_img_sitk(i)\n",
    "    image = (image/np.max(image))*255\n",
    "    return image//1"
   ]
  },
  {
   "cell_type": "code",
   "execution_count": 2,
   "metadata": {
    "ExecuteTime": {
     "end_time": "2020-06-17T18:22:53.487147Z",
     "start_time": "2020-06-17T18:22:53.473134Z"
    }
   },
   "outputs": [],
   "source": [
    "directory = 'C:/IAMEDIC/Jaeho_code/data/preprocessed_N4/HGG/BraTS19_CBICA_AAB_1/'\n",
    "img_dirs = [directory+'flair.nii.gz', directory+'t1ce.nii.gz']\n",
    "pred_dir = 'C:/IAMEDIC/Jaeho_code/demo_task1/saves/training_to_upload_1.3/BraTS19_CBICA_AAB_1.nii.gz'\n",
    "true_dir = directory+'truth.nii.gz'"
   ]
  },
  {
   "cell_type": "markdown",
   "metadata": {},
   "source": [
    "## MRI Image preprocessing"
   ]
  },
  {
   "cell_type": "code",
   "execution_count": 8,
   "metadata": {
    "ExecuteTime": {
     "end_time": "2020-06-17T18:29:39.760652Z",
     "start_time": "2020-06-17T18:29:39.215149Z"
    }
   },
   "outputs": [],
   "source": [
    "mri_img = nii_to_8bit_npy(img_dirs)\n",
    "\n",
    "#turning to gray-color,un-transparent RGBA image\n",
    "mri_img = np.stack((mri_img, mri_img, mri_img, np.ones(mri_img.shape)*255), axis = -1).astype('uint8')"
   ]
  },
  {
   "cell_type": "markdown",
   "metadata": {},
   "source": [
    "## Segmentation Image Processing"
   ]
  },
  {
   "cell_type": "code",
   "execution_count": 9,
   "metadata": {
    "ExecuteTime": {
     "end_time": "2020-06-17T18:29:41.344384Z",
     "start_time": "2020-06-17T18:29:40.662469Z"
    }
   },
   "outputs": [
    {
     "name": "stdout",
     "output_type": "stream",
     "text": [
      "(155, 240, 240, 4)\n",
      "(155, 240, 240, 4)\n"
     ]
    }
   ],
   "source": [
    "#1. Image Preparation\n",
    "\n",
    "seg_pred = read_img_sitk(pred_dir)\n",
    "seg_true = read_img_sitk(true_dir)\n",
    "\n",
    "#Edema:2, NEC:4, ET:1\n",
    "#pred_images\n",
    "pred_ED = np.where(seg_pred==2, 1, 0 ).astype('uint8') #2\n",
    "pred_NC = np.where(seg_pred==4, 1, 0 ).astype('uint8') #4\n",
    "pred_ET = np.where(seg_pred==1, 1, 0 ).astype('uint8') #1\n",
    "pred_TC = pred_NC+pred_ET #1+4\n",
    "pred_WT = pred_ED+pred_TC #1+2+4\n",
    "\n",
    "#true_images\n",
    "true_ED = np.where(seg_true==2, 1, 0 ).astype('uint8')\n",
    "true_NC = np.where(seg_true==4, 1, 0 ).astype('uint8')\n",
    "true_ET = np.where(seg_true==1, 1, 0 ).astype('uint8')\n",
    "true_TC = true_NC+true_ET\n",
    "true_WT = true_ED+true_TC\n",
    "\n",
    "# pred_WT = np.stack((pred_WT,)*3, axis=-1)\n",
    "# true_WT = np.stack((true_WT,)*3, axis=-1)\n",
    "\n",
    "#turning to RGBA image: pred = red, true = blue\n",
    "pred_ED = np.stack((pred_ED*255,pred_ED*0,pred_ED*0,pred_ED*128), axis = -1)\n",
    "pred_NC = np.stack((pred_NC*255,pred_NC*0,pred_NC*0,pred_NC*128), axis = -1)\n",
    "pred_ET = np.stack((pred_ET*255,pred_ET*0,pred_ET*0,pred_ET*128), axis = -1) \n",
    "pred_TC = np.stack((pred_TC*255,pred_TC*0,pred_TC*0,pred_TC*128), axis = -1) \n",
    "pred_WT = np.stack((pred_WT*255,pred_WT*0,pred_WT*0,pred_WT*128), axis = -1) \n",
    "\n",
    "true_ED = np.stack((true_ED*0,true_ED*0,true_ED*255,true_ED*128), axis = -1)\n",
    "true_NC = np.stack((true_NC*0,true_NC*0,true_NC*255,true_NC*128), axis = -1)\n",
    "true_ET = np.stack((true_ET*0,true_ET*0,true_ET*255,true_ET*128), axis = -1) \n",
    "true_TC = np.stack((true_TC*0,true_TC*0,true_TC*255,true_TC*128), axis = -1) \n",
    "true_WT = np.stack((true_WT*0,true_WT*0,true_WT*255,true_WT*128), axis = -1) \n",
    "\n",
    "print(pred_WT.shape)\n",
    "print(true_WT.shape)"
   ]
  },
  {
   "cell_type": "markdown",
   "metadata": {},
   "source": [
    "## Overlaying (Super-composing)"
   ]
  },
  {
   "cell_type": "code",
   "execution_count": 30,
   "metadata": {
    "ExecuteTime": {
     "end_time": "2020-06-17T19:22:15.607014Z",
     "start_time": "2020-06-17T19:22:15.585995Z"
    }
   },
   "outputs": [],
   "source": [
    "from PIL import Image\n",
    "\n",
    "def alpha_composit_3D(img1, img2, img3):\n",
    "    \"\"\"\n",
    "    receives two same shaped 3D-RGBA arrays. e.g.(155, 240, 240, 4)\n",
    "    returns a list of 2d alpha composited images sliced by axis0.\n",
    "    \"\"\"\n",
    "    img1_arr = [Image.fromarray(i) for i in img1]\n",
    "    img2_arr = [Image.fromarray(i) for i in img2]\n",
    "    alpha_3D = []\n",
    "    for i,j in zip(img1_arr,img2_arr):\n",
    "        alpha_3D.append(Image.alpha_composite(i,j))    \n",
    "\n",
    "    return alpha3D\n",
    "\n",
    "def alpha_composit_3D_3(img1, img2, img3):\n",
    "    \"\"\"\n",
    "    receives three same shaped 3D-RGBA arrays. e.g.(155, 240, 240, 4)\n",
    "    returns a list of 2d alpha composited images sliced by axis0.\n",
    "    first two images will be composited and the third one will be composited on top.\n",
    "    \"\"\"\n",
    "    img1_arr = [Image.fromarray(i) for i in img1]\n",
    "    img2_arr = [Image.fromarray(i) for i in img2]\n",
    "    alpha_3D = []\n",
    "    for i,j in zip(img1_arr,img2_arr):\n",
    "        alpha_3D.append(Image.alpha_composite(i,j))    \n",
    "\n",
    "    alpha3D_2 = []\n",
    "    img3_arr = [Image.fromarray(i) for i in img3]\n",
    "    for i,j in zip(alpha_3D, img3_arr):\n",
    "        alpha3D_2.append(Image.alpha_composite(i,j))\n",
    "    return alpha3D_2\n",
    "    \n",
    "\n",
    "def create_gif_from_images(images, path = 'img.gif', duration = 100):\n",
    "    images[0].save(path,\n",
    "                   save_all=True,\n",
    "                   append_images=images[1:],\n",
    "                   optimize=False,\n",
    "                   duration=duration,\n",
    "                   loop=0)\n",
    "    print(f\"{path} has been created successfully.\")\n",
    "    return "
   ]
  },
  {
   "cell_type": "code",
   "execution_count": 31,
   "metadata": {
    "ExecuteTime": {
     "end_time": "2020-06-17T19:22:17.330580Z",
     "start_time": "2020-06-17T19:22:16.090453Z"
    }
   },
   "outputs": [
    {
     "name": "stdout",
     "output_type": "stream",
     "text": [
      "WT.gif has been created successfully.\n"
     ]
    }
   ],
   "source": [
    "WT_overlay = alpha_composit_3D_3(mri_img[45:125,:,:,:], true_WT[45:125,:,:,:], pred_WT[45:125,:,:,:])\n",
    "WT_overlay[50].show()\n",
    "create_gif_from_images(WT_overlay, 'WT.gif')"
   ]
  },
  {
   "cell_type": "code",
   "execution_count": 32,
   "metadata": {
    "ExecuteTime": {
     "end_time": "2020-06-17T19:22:52.144003Z",
     "start_time": "2020-06-17T19:22:50.770756Z"
    }
   },
   "outputs": [
    {
     "name": "stdout",
     "output_type": "stream",
     "text": [
      "TC.gif has been created successfully.\n"
     ]
    }
   ],
   "source": [
    "TC_overlay = alpha_composit_3D_3(mri_img[45:125,:,:,:], true_TC[45:125,:,:,:], pred_TC[45:125,:,:,:])\n",
    "TC_overlay[50].show()\n",
    "create_gif_from_images(TC_overlay, 'TC.gif')"
   ]
  },
  {
   "cell_type": "code",
   "execution_count": 38,
   "metadata": {
    "ExecuteTime": {
     "end_time": "2020-06-17T19:27:32.235049Z",
     "start_time": "2020-06-17T19:27:30.856279Z"
    }
   },
   "outputs": [
    {
     "name": "stdout",
     "output_type": "stream",
     "text": [
      "ET.gif has been created successfully.\n"
     ]
    }
   ],
   "source": [
    "ET_overlay = alpha_composit_3D_3(mri_img[45:125,:,:,:], true_ET[45:125,:,:,:], pred_ET[45:125,:,:,:])\n",
    "ET_overlay[50].show()\n",
    "create_gif_from_images(TC_overlay, 'ET.gif')"
   ]
  },
  {
   "cell_type": "code",
   "execution_count": 39,
   "metadata": {
    "ExecuteTime": {
     "end_time": "2020-06-17T19:29:38.207344Z",
     "start_time": "2020-06-17T19:29:38.111257Z"
    }
   },
   "outputs": [
    {
     "name": "stdout",
     "output_type": "stream",
     "text": [
      "MRI(T1ce_Flair).gif has been created successfully.\n"
     ]
    }
   ],
   "source": [
    "create_gif_from_images([Image.fromarray(i) for i in mri_img[45:125,:,:,:]], 'MRI(T1ce_Flair).gif')"
   ]
  },
  {
   "cell_type": "code",
   "execution_count": 11,
   "metadata": {
    "ExecuteTime": {
     "end_time": "2020-06-17T17:22:23.411931Z",
     "start_time": "2020-06-17T17:22:23.401922Z"
    }
   },
   "outputs": [
    {
     "data": {
      "text/plain": [
       "'RGBA'"
      ]
     },
     "execution_count": 11,
     "metadata": {},
     "output_type": "execute_result"
    }
   ],
   "source": [
    "# from PIL import Image\n",
    "# pred_ED = Image.fromarray(pred_ED[80,:,:,:])\n",
    "# pred_NC = Image.fromarray(pred_NC[80,:,:,:])\n",
    "# pred_ET = Image.fromarray(pred_ET[80,:,:,:])\n",
    "# pred_TC = Image.fromarray(pred_TC[80,:,:,:])\n",
    "# pred_WT = Image.fromarray(pred_WT[80,:,:,:])\n",
    "\n",
    "# true_ED = Image.fromarray(true_ED[80,:,:,:])\n",
    "# true_NC = Image.fromarray(true_NC[80,:,:,:])\n",
    "# true_ET = Image.fromarray(true_ET[80,:,:,:])\n",
    "# true_TC = Image.fromarray(true_TC[80,:,:,:])\n",
    "# true_WT = Image.fromarray(true_WT[80,:,:,:])\n",
    "\n",
    "# pred_ED.mode"
   ]
  },
  {
   "cell_type": "code",
   "execution_count": 14,
   "metadata": {
    "ExecuteTime": {
     "end_time": "2020-06-17T17:22:59.608142Z",
     "start_time": "2020-06-17T17:22:55.000934Z"
    }
   },
   "outputs": [],
   "source": [
    "# true_WT.show()\n",
    "# pred_WT.show()\n",
    "# x = Image.alpha_composite(true_WT, pred_WT)\n",
    "# x.show()\n",
    "# y = Image.alpha_composite(x, pred_TC)\n",
    "# y.show()\n",
    "# y.mode"
   ]
  },
  {
   "cell_type": "code",
   "execution_count": 44,
   "metadata": {
    "ExecuteTime": {
     "end_time": "2020-06-17T19:36:25.865331Z",
     "start_time": "2020-06-17T19:36:24.724060Z"
    }
   },
   "outputs": [],
   "source": [
    "TC_overlay[25].show()"
   ]
  },
  {
   "cell_type": "code",
   "execution_count": 45,
   "metadata": {
    "ExecuteTime": {
     "end_time": "2020-06-17T19:37:17.891911Z",
     "start_time": "2020-06-17T19:37:16.749866Z"
    }
   },
   "outputs": [],
   "source": [
    "ET_overlay[30].show()"
   ]
  },
  {
   "cell_type": "code",
   "execution_count": 46,
   "metadata": {
    "ExecuteTime": {
     "end_time": "2020-06-17T19:37:46.729363Z",
     "start_time": "2020-06-17T19:37:45.597335Z"
    }
   },
   "outputs": [],
   "source": [
    "WT_overlay[30].show()"
   ]
  },
  {
   "cell_type": "code",
   "execution_count": null,
   "metadata": {
    "ExecuteTime": {
     "end_time": "2020-06-17T07:53:40.200959Z",
     "start_time": "2020-06-17T07:53:39.926720Z"
    }
   },
   "outputs": [],
   "source": []
  },
  {
   "cell_type": "code",
   "execution_count": null,
   "metadata": {
    "ExecuteTime": {
     "end_time": "2020-06-17T07:56:31.836402Z",
     "start_time": "2020-06-17T07:56:31.829396Z"
    }
   },
   "outputs": [],
   "source": []
  },
  {
   "cell_type": "code",
   "execution_count": null,
   "metadata": {},
   "outputs": [],
   "source": []
  },
  {
   "cell_type": "code",
   "execution_count": null,
   "metadata": {},
   "outputs": [],
   "source": []
  },
  {
   "cell_type": "code",
   "execution_count": null,
   "metadata": {
    "ExecuteTime": {
     "end_time": "2020-06-17T07:12:33.122556Z",
     "start_time": "2020-06-17T07:12:33.104549Z"
    }
   },
   "outputs": [],
   "source": []
  },
  {
   "cell_type": "code",
   "execution_count": null,
   "metadata": {},
   "outputs": [],
   "source": []
  },
  {
   "cell_type": "code",
   "execution_count": null,
   "metadata": {},
   "outputs": [],
   "source": []
  }
 ],
 "metadata": {
  "kernelspec": {
   "display_name": "Python 3",
   "language": "python",
   "name": "python3"
  },
  "language_info": {
   "codemirror_mode": {
    "name": "ipython",
    "version": 3
   },
   "file_extension": ".py",
   "mimetype": "text/x-python",
   "name": "python",
   "nbconvert_exporter": "python",
   "pygments_lexer": "ipython3",
   "version": "3.7.5"
  }
 },
 "nbformat": 4,
 "nbformat_minor": 4
}
